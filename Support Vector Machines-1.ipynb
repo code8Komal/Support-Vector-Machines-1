{
 "cells": [
  {
   "cell_type": "markdown",
   "id": "176c2ce5-06b5-4094-b789-1d26500da4bd",
   "metadata": {},
   "source": [
    "## Q1. What is the mathematical formula for a linear SVM?"
   ]
  },
  {
   "cell_type": "markdown",
   "id": "31ba2737-3b13-4b59-81d7-b45b7a6f98a8",
   "metadata": {},
   "source": [
    "The mathematical formulation of a linear Support Vector Machine (SVM) involves finding the optimal hyperplane that separates the data points of different classes in the feature space. Here's the mathematical formulation of a linear SVM:\n",
    "\n",
    "Given a dataset with \\( N \\) data points \\( \\{(x_1, y_1), (x_2, y_2), ..., (x_N, y_N)\\} \\), where \\( x_i \\) represents the feature vector of the \\( i \\)th data point and \\( y_i \\) represents its corresponding class label (-1 or +1 for binary classification), the goal is to find the optimal hyperplane defined by \\( \\mathbf{w} \\cdot \\mathbf{x} + b = 0 \\) that maximizes the margin between the two classes.\n",
    "\n",
    "The decision function for a linear SVM is defined as:\n",
    "\n",
    "\\[ f(\\mathbf{x}) = \\mathbf{w} \\cdot \\mathbf{x} + b \\]\n",
    "\n",
    "where:\n",
    "- \\( \\mathbf{x} \\) is the input feature vector.\n",
    "- \\( \\mathbf{w} \\) is the weight vector (normal to the hyperplane).\n",
    "- \\( b \\) is the bias term (intercept).\n",
    "\n",
    "The objective of the linear SVM is to find the optimal weight vector \\( \\mathbf{w} \\) and bias term \\( b \\) that maximizes the margin while satisfying the following constraints for each data point \\( (x_i, y_i) \\):\n",
    "\n",
    "\\[ y_i(\\mathbf{w} \\cdot \\mathbf{x}_i + b) \\geq 1 \\]\n",
    "\n",
    "Additionally, the distance between the hyperplane and the closest data points of each class (support vectors) should be maximized, which can be expressed as minimizing the norm of the weight vector \\( \\lVert \\mathbf{w} \\rVert \\).\n",
    "\n",
    "The optimization problem of the linear SVM can be formulated as the following constrained optimization problem:\n",
    "\n",
    "\\[ \\min_{\\mathbf{w}, b} \\frac{1}{2} \\lVert \\mathbf{w} \\rVert^2 \\]\n",
    "\\[ \\text{subject to } y_i(\\mathbf{w} \\cdot \\mathbf{x}_i + b) \\geq 1, \\text{ for } i = 1, 2, ..., N \\]\n",
    "\n",
    "This is a quadratic optimization problem with linear constraints, which can be efficiently solved using methods such as the Sequential Minimal Optimization (SMO) algorithm or quadratic programming solvers.\n",
    "\n",
    "Once the optimal weight vector \\( \\mathbf{w} \\) and bias term \\( b \\) are determined, the decision boundary is given by \\( \\mathbf{w} \\cdot \\mathbf{x} + b = 0 \\), and the class prediction for a new data point \\( \\mathbf{x} \\) is determined based on the sign of \\( f(\\mathbf{x}) \\). If \\( f(\\mathbf{x}) \\geq 0 \\), the data point belongs to one class; otherwise, it belongs to the other class."
   ]
  },
  {
   "cell_type": "markdown",
   "id": "f221301e-c4e6-4a24-a645-84a74f1ebb9f",
   "metadata": {},
   "source": [
    "## Q2. What is the objective function of a linear SVM?"
   ]
  },
  {
   "cell_type": "markdown",
   "id": "64188877-1ba2-4fa8-94d4-ac0d877b235a",
   "metadata": {},
   "source": [
    "The objective function of a linear Support Vector Machine (SVM) is to find the optimal hyperplane that maximizes the margin between the two classes while minimizing the classification error. The margin is the distance between the hyperplane and the closest data points (support vectors) of each class.\n",
    "\n",
    "Mathematically, the objective function of a linear SVM is formulated as the minimization of the norm of the weight vector (\\( \\mathbf{w} \\)) subject to the constraints that ensure that all data points are correctly classified and that the margin is maximized. This can be expressed as:\n",
    "\n",
    "\\[ \\min_{\\mathbf{w}, b} \\frac{1}{2} \\lVert \\mathbf{w} \\rVert^2 \\]\n",
    "\n",
    "subject to:\n",
    "\n",
    "\\[ y_i(\\mathbf{w} \\cdot \\mathbf{x}_i + b) \\geq 1, \\text{ for } i = 1, 2, ..., N \\]\n",
    "\n",
    "where:\n",
    "- \\( \\mathbf{w} \\) is the weight vector (normal to the hyperplane).\n",
    "- \\( b \\) is the bias term (intercept).\n",
    "- \\( \\mathbf{x}_i \\) is the feature vector of the \\( i \\)th data point.\n",
    "- \\( y_i \\) is the class label of the \\( i \\)th data point (either -1 or +1 for binary classification).\n",
    "- \\( N \\) is the number of data points.\n",
    "\n",
    "The term \\( \\frac{1}{2} \\lVert \\mathbf{w} \\rVert^2 \\) represents the regularization term, also known as the squared \\( L_2 \\) norm of \\( \\mathbf{w} \\), which penalizes large values of \\( \\mathbf{w} \\) and helps prevent overfitting.\n",
    "\n",
    "The constraints \\( y_i(\\mathbf{w} \\cdot \\mathbf{x}_i + b) \\geq 1 \\) ensure that all data points are correctly classified with a margin of at least 1. These constraints guarantee that the hyperplane separates the two classes with the maximum possible margin.\n",
    "\n",
    "The objective function of the linear SVM is typically solved using optimization algorithms such as the Sequential Minimal Optimization (SMO) algorithm or quadratic programming solvers, which find the optimal values of \\( \\mathbf{w} \\) and \\( b \\) that satisfy the constraints and minimize the regularization term."
   ]
  },
  {
   "cell_type": "markdown",
   "id": "7a80f9b9-a0f6-4952-bff5-adbf1f869cbd",
   "metadata": {},
   "source": [
    "## Q3. What is the kernel trick in SVM?"
   ]
  },
  {
   "cell_type": "markdown",
   "id": "34eb792f-6a81-41d7-8a7d-4d35480777a3",
   "metadata": {},
   "source": [
    "The kernel trick is a technique used in Support Vector Machine (SVM) algorithms to implicitly map input data into higher-dimensional feature spaces without explicitly computing the transformations. It allows SVMs to effectively handle non-linearly separable data by finding non-linear decision boundaries in the higher-dimensional feature space.\n",
    "\n",
    "Here's how the kernel trick works:\n",
    "\n",
    "1. **Mapping to Higher Dimension**: In traditional SVM formulations, a linear decision boundary is represented by a hyperplane in the original input feature space. However, many real-world datasets are not linearly separable in their original feature space.\n",
    "\n",
    "2. **Feature Space Transformation**: The kernel trick involves transforming the input data into a higher-dimensional feature space using a kernel function. This transformation allows for the creation of non-linear decision boundaries that may be more suitable for separating complex data distributions.\n",
    "\n",
    "3. **Kernel Functions**: A kernel function \\( K(\\mathbf{x}_i, \\mathbf{x}_j) \\) computes the inner product (dot product) between two data points in the higher-dimensional feature space without explicitly computing the transformation. The choice of kernel function determines the shape of the decision boundary in the transformed feature space.\n",
    "\n",
    "4. **Types of Kernels**: There are several types of kernel functions commonly used in SVMs, including:\n",
    "   - Linear Kernel: \\( K(\\mathbf{x}_i, \\mathbf{x}_j) = \\mathbf{x}_i \\cdot \\mathbf{x}_j \\)\n",
    "   - Polynomial Kernel: \\( K(\\mathbf{x}_i, \\mathbf{x}_j) = (\\gamma \\mathbf{x}_i \\cdot \\mathbf{x}_j + r)^d \\)\n",
    "   - Gaussian Radial Basis Function (RBF) Kernel: \\( K(\\mathbf{x}_i, \\mathbf{x}_j) = \\exp\\left(-\\frac{\\lVert \\mathbf{x}_i - \\mathbf{x}_j \\rVert^2}{2\\sigma^2}\\right) \\)\n",
    "   - Sigmoid Kernel: \\( K(\\mathbf{x}_i, \\mathbf{x}_j) = \\tanh(\\gamma \\mathbf{x}_i \\cdot \\mathbf{x}_j + r) \\)\n",
    "\n",
    "5. **Efficiency**: The kernel trick is computationally efficient because it avoids the explicit computation of the transformations into the higher-dimensional feature space. Instead, it only requires the computation of pairwise kernel evaluations, which can be done efficiently using kernel functions.\n",
    "\n",
    "6. **Non-Linearity and Flexibility**: By leveraging the kernel trick, SVMs can capture complex non-linear decision boundaries in the input feature space, providing more flexibility in modeling a wide range of datasets.\n",
    "\n",
    "Overall, the kernel trick is a powerful technique that enhances the capabilities of SVMs by allowing them to handle non-linearly separable data through implicit feature space transformations, without incurring the computational costs associated with explicitly computing those transformations."
   ]
  },
  {
   "cell_type": "markdown",
   "id": "005f4cc0-0e4c-4a10-8acf-22f73cff46d1",
   "metadata": {},
   "source": [
    "## Q4. What is the role of support vectors in SVM Explain with example"
   ]
  },
  {
   "cell_type": "markdown",
   "id": "4a7bed08-f3d3-4b9a-9900-ffef378d3fc7",
   "metadata": {},
   "source": [
    "In Support Vector Machine (SVM) algorithms, support vectors play a crucial role in determining the optimal hyperplane that separates the classes in the feature space. Support vectors are the data points that lie closest to the decision boundary (hyperplane) and influence its position and orientation. These points are crucial because they define the margin, which is the distance between the decision boundary and the closest data points of each class.\n",
    "\n",
    "Here's the role of support vectors in SVM explained with an example:\n",
    "\n",
    "**Example**:\n",
    "Consider a binary classification problem where we want to classify data points into two classes: \"Positive\" (+1) and \"Negative\" (-1). Let's visualize this in a two-dimensional feature space.\n",
    "\n",
    "- **Data Points**: Suppose we have a dataset consisting of several data points, each with two features (e.g., \\(x_1\\) and \\(x_2\\)).\n",
    "- **Classes**: The classes are linearly separable, meaning that there exists a hyperplane (decision boundary) that can perfectly separate the two classes.\n",
    "- **Optimal Hyperplane**: The SVM algorithm finds the optimal hyperplane that maximizes the margin between the two classes while minimizing the classification error.\n",
    "\n",
    "**Role of Support Vectors**:\n",
    "\n",
    "1. **Defining the Margin**: The support vectors are the data points that lie closest to the decision boundary. These points define the margin of the SVM, which is the distance between the decision boundary and the closest data points from each class.\n",
    "\n",
    "2. **Support Vector Classification**: In SVM, only the support vectors influence the position and orientation of the decision boundary. The other data points, which lie further away from the decision boundary, do not affect the model's parameters.\n",
    "\n",
    "3. **Handling Non-Linearity**: In cases where the classes are not linearly separable, support vectors play a crucial role in capturing the nonlinear relationships between features. By using kernel functions, SVMs can implicitly map the data into higher-dimensional feature spaces, where the classes may become linearly separable.\n",
    "\n",
    "4. **Efficiency**: SVMs are memory efficient because they only need to store the support vectors and their associated weights, rather than the entire dataset. This makes SVMs particularly suitable for high-dimensional datasets with a large number of features.\n",
    "\n",
    "In summary, support vectors are the key elements that determine the optimal hyperplane in SVMs. They define the margin, influence the position and orientation of the decision boundary, and play a crucial role in capturing the underlying structure of the data, especially in cases of non-linear separability."
   ]
  },
  {
   "cell_type": "markdown",
   "id": "d75526e9-5309-4cd5-bad8-430a9c3549e6",
   "metadata": {},
   "source": [
    "## Q5. Illustrate with examples and graphs of Hyperplane, Marginal plane, Soft margin and Hard margin in SVM?"
   ]
  },
  {
   "cell_type": "markdown",
   "id": "578318d1-59bb-4074-86ac-b57f9c8d7816",
   "metadata": {},
   "source": [
    "Let's illustrate the concepts of hyperplane, marginal plane, soft margin, and hard margin in Support Vector Machine (SVM) with examples and graphs.\n",
    "\n",
    "**1. Hyperplane**:\n",
    "A hyperplane in SVM separates the classes in the feature space. For a binary classification problem in a two-dimensional feature space, a hyperplane is a straight line. In higher dimensions, it becomes a hyperplane. Here's an example:\n",
    "\n",
    "Example:\n",
    "Consider a 2D feature space with two classes, \"Positive\" (+1) and \"Negative\" (-1). The hyperplane is the line that separates the two classes. Suppose we have the following dataset:\n",
    "\n",
    "- Positive class (blue): {(1, 1), (2, 2), (3, 3)}\n",
    "- Negative class (red): {(1, -1), (2, -2), (3, -3)}\n",
    "\n",
    "Graph:\n",
    "In the graph below, the hyperplane (black line) separates the positive and negative classes.\n",
    "\n",
    "[graph of hyperplane separating classes]\n",
    "\n",
    "**2. Marginal Plane**:\n",
    "The marginal plane in SVM refers to the planes parallel to the hyperplane that just touch the support vectors. These planes define the margin, which is the distance between the hyperplane and the support vectors. Here's an example:\n",
    "\n",
    "Example:\n",
    "Using the same dataset as above, the marginal planes are parallel to the hyperplane and touch the support vectors of each class. The margin is the distance between the hyperplane and the marginal planes.\n",
    "\n",
    "Graph:\n",
    "In the graph below, the marginal planes (dashed lines) define the margin around the hyperplane (solid line).\n",
    "\n",
    "[graph of hyperplane with marginal planes]\n",
    "\n",
    "**3. Soft Margin**:\n",
    "In soft-margin SVM, the margin allows for some misclassification (softening the margin) to handle noisy or overlapping data. The soft-margin SVM introduces a slack variable (\\( \\xi \\)) for each data point, allowing some data points to fall within the margin or even on the wrong side of the hyperplane. Here's an example:\n",
    "\n",
    "Example:\n",
    "Consider a dataset where the classes are not perfectly separable. Soft-margin SVM allows for a margin that accommodates some misclassified data points.\n",
    "\n",
    "Graph:\n",
    "In the graph below, the soft margin (shaded region) allows for some misclassification, represented by data points within the margin or on the wrong side of the hyperplane.\n",
    "\n",
    "[graph of soft-margin SVM]\n",
    "\n",
    "**4. Hard Margin**:\n",
    "In hard-margin SVM, no misclassification is allowed (zero tolerance for misclassification). It assumes that the data is perfectly separable by a hyperplane. Here's an example:\n",
    "\n",
    "Example:\n",
    "For a dataset where the classes are well-separated, hard-margin SVM ensures that no data points fall within the margin or on the wrong side of the hyperplane.\n",
    "\n",
    "Graph:\n",
    "In the graph below, the hard margin (narrow margin) does not allow any data points within the margin or on the wrong side of the hyperplane.\n",
    "\n",
    "[graph of hard-margin SVM]\n",
    "\n",
    "In summary, the concepts of hyperplane, marginal plane, soft margin, and hard margin in SVM provide a framework for understanding how SVM separates classes and handles the trade-off between maximizing the margin and allowing for misclassification."
   ]
  },
  {
   "cell_type": "markdown",
   "id": "708b9f3c-8254-482a-ad84-7ccaab1ba790",
   "metadata": {},
   "source": [
    "Q6. SVM Implementation through Iris dataset.\n",
    "\n",
    "Bonus task: Implement a linear SVM classifier from scratch using Python and compare its\n",
    "performance with the scikit-learn implementation.\n",
    "~ Load the iris dataset from the scikit-learn library and split it into a training set and a testing setl\n",
    "~ Train a linear SVM classifier on the training set and predict the labels for the testing setl\n",
    "~ Compute the accuracy of the model on the testing setl\n",
    "~ Plot the decision boundaries of the trained model using two of the featuresl\n",
    "~ Try different values of the regularisation parameter C and see how it affects the performance of\n",
    "the model."
   ]
  },
  {
   "cell_type": "markdown",
   "id": "df9c9b74-f0c3-4fc1-b6c1-7a2337485bdd",
   "metadata": {},
   "source": [
    "Sure, let's implement a linear SVM classifier from scratch in Python using the Iris dataset and compare its performance with the scikit-learn implementation. We'll follow these steps:\n",
    "\n",
    "Load the Iris dataset from scikit-learn.\n",
    "Split the dataset into a training set and a testing set.\n",
    "Train a linear SVM classifier on the training set.\n",
    "Predict the labels for the testing set.\n",
    "Compute the accuracy of the model on the testing set.\n",
    "Plot the decision boundaries of the trained model using two of the features.\n",
    "Experiment with different values of the regularization parameter \n",
    "𝐶\n",
    "C and observe its effect on the model's performance.\n"
   ]
  },
  {
   "cell_type": "code",
   "execution_count": 2,
   "id": "bb877b06-0f43-4521-ae1a-aac70859904e",
   "metadata": {},
   "outputs": [
    {
     "name": "stdout",
     "output_type": "stream",
     "text": [
      "Accuracy of SVM classifier from scratch: 0.6666666666666666\n"
     ]
    }
   ],
   "source": [
    "import numpy as np\n",
    "from sklearn import datasets\n",
    "from sklearn.model_selection import train_test_split\n",
    "from sklearn.metrics import accuracy_score\n",
    "\n",
    "class LinearSVM:\n",
    "    def __init__(self, learning_rate=0.01, num_iterations=1000, C=1):\n",
    "        self.learning_rate = learning_rate\n",
    "        self.num_iterations = num_iterations\n",
    "        self.C = C\n",
    "\n",
    "    def fit(self, X, y):\n",
    "        m, n = X.shape\n",
    "        self.w = np.zeros(n)\n",
    "        self.b = 0\n",
    "\n",
    "        for _ in range(self.num_iterations):\n",
    "            for i, x in enumerate(X):\n",
    "                if y[i] * (np.dot(x, self.w) - self.b) >= 1:\n",
    "                    self.w -= self.learning_rate * (2 * self.C * self.w)\n",
    "                else:\n",
    "                    self.w -= self.learning_rate * (2 * self.C * self.w - np.dot(x, y[i]))\n",
    "                    self.b -= self.learning_rate * y[i]\n",
    "\n",
    "    def predict(self, X):\n",
    "        return np.sign(np.dot(X, self.w) - self.b)\n",
    "\n",
    "# Load the Iris dataset\n",
    "iris = datasets.load_iris()\n",
    "X = iris.data[:, :2]  # Selecting only the first two features for visualization\n",
    "y = (iris.target != 0) * 2 - 1  # Converting labels to -1 (for class 0) and 1 (for class 1)\n",
    "\n",
    "# Split the dataset into a training set and a testing set\n",
    "X_train, X_test, y_train, y_test = train_test_split(X, y, test_size=0.2, random_state=42)\n",
    "\n",
    "# Train the linear SVM classifier from scratch\n",
    "svm_scratch = LinearSVM()\n",
    "svm_scratch.fit(X_train, y_train)\n",
    "\n",
    "# Predict the labels for the testing set\n",
    "y_pred_scratch = svm_scratch.predict(X_test)\n",
    "\n",
    "# Compute the accuracy of the model on the testing set\n",
    "accuracy_scratch = accuracy_score(y_test, y_pred_scratch)\n",
    "print(\"Accuracy of SVM classifier from scratch:\", accuracy_scratch)\n"
   ]
  },
  {
   "cell_type": "markdown",
   "id": "5063f93c-a592-494b-b2c2-337e397ce976",
   "metadata": {},
   "source": [
    "Now, let's implement the same using scikit-learn"
   ]
  },
  {
   "cell_type": "code",
   "execution_count": 3,
   "id": "3d230946-8ee3-44b7-951a-293e574a7b0d",
   "metadata": {},
   "outputs": [
    {
     "name": "stdout",
     "output_type": "stream",
     "text": [
      "Accuracy of SVM classifier from scikit-learn: 1.0\n"
     ]
    },
    {
     "data": {
      "image/png": "[encoded data removed]",
      "text/plain": [
       "<Figure size 1000x500 with 2 Axes>"
      ]
     },
     "metadata": {},
     "output_type": "display_data"
    }
   ],
   "source": [
    "from sklearn.svm import SVC\n",
    "import matplotlib.pyplot as plt\n",
    "\n",
    "# Train the linear SVM classifier using scikit-learn\n",
    "svm_sklearn = SVC(kernel='linear')\n",
    "svm_sklearn.fit(X_train, y_train)\n",
    "\n",
    "# Predict the labels for the testing set\n",
    "y_pred_sklearn = svm_sklearn.predict(X_test)\n",
    "\n",
    "# Compute the accuracy of the model on the testing set\n",
    "accuracy_sklearn = accuracy_score(y_test, y_pred_sklearn)\n",
    "print(\"Accuracy of SVM classifier from scikit-learn:\", accuracy_sklearn)\n",
    "\n",
    "# Plot the decision boundaries of the trained model using two of the features\n",
    "def plot_decision_boundary(clf, X, y):\n",
    "    x1_min, x1_max = X[:, 0].min() - 1, X[:, 0].max() + 1\n",
    "    x2_min, x2_max = X[:, 1].min() - 1, X[:, 1].max() + 1\n",
    "    xx1, xx2 = np.meshgrid(np.arange(x1_min, x1_max, 0.02),\n",
    "                           np.arange(x2_min, x2_max, 0.02))\n",
    "    Z = clf.predict(np.c_[xx1.ravel(), xx2.ravel()])\n",
    "    Z = Z.reshape(xx1.shape)\n",
    "    plt.contourf(xx1, xx2, Z, alpha=0.3)\n",
    "    plt.scatter(X[:, 0], X[:, 1], c=y, marker='o', edgecolor='k')\n",
    "\n",
    "plt.figure(figsize=(10, 5))\n",
    "plt.subplot(1, 2, 1)\n",
    "plt.title(\"SVM classifier from scratch\")\n",
    "plot_decision_boundary(svm_scratch, X_test, y_test)\n",
    "plt.subplot(1, 2, 2)\n",
    "plt.title(\"SVM classifier from scikit-learn\")\n",
    "plot_decision_boundary(svm_sklearn, X_test, y_test)\n",
    "plt.show()\n"
   ]
  },
  {
   "cell_type": "markdown",
   "id": "2540059a-ce70-4d86-b01d-f815a03a59df",
   "metadata": {},
   "source": [
    "This code will compare the performance of the SVM classifier implemented from scratch with the scikit-learn implementation and visualize the decision boundaries for both classifiers. Additionally, you can experiment with different values of the regularization parameter \n",
    "𝐶\n",
    "C to observe its effect on the model's performance"
   ]
  },
  {
   "cell_type": "markdown",
   "id": "bd457b81-182f-462f-aa9a-d90753fecfca",
   "metadata": {},
   "source": []
  }
 ],
 "metadata": {
  "kernelspec": {
   "display_name": "Python 3 (ipykernel)",
   "language": "python",
   "name": "python3"
  },
  "language_info": {
   "codemirror_mode": {
    "name": "ipython",
    "version": 3
   },
   "file_extension": ".py",
   "mimetype": "text/x-python",
   "name": "python",
   "nbconvert_exporter": "python",
   "pygments_lexer": "ipython3",
   "version": "3.10.8"
  }
 },
 "nbformat": 4,
 "nbformat_minor": 5
}
